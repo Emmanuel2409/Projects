{
  "nbformat": 4,
  "nbformat_minor": 0,
  "metadata": {
    "colab": {
      "provenance": []
    },
    "kernelspec": {
      "name": "python3",
      "display_name": "Python 3"
    },
    "language_info": {
      "name": "python"
    }
  },
  "cells": [
    {
      "cell_type": "code",
      "execution_count": 2,
      "metadata": {
        "id": "21yTp7HJnMAK"
      },
      "outputs": [],
      "source": [
        "import numpy as np\n",
        "import matplotlib.pyplot as plt\n",
        "import scipy.integrate\n",
        "import scipy.optimize\n",
        "import scipy.interpolate\n",
        "import scipy.signal\n",
        "import scipy.linalg"
      ]
    },
    {
      "cell_type": "code",
      "source": [
        "#Data = Data points given.\n",
        "#tme = tme variable\n",
        "#y   = concentration\n",
        "Data=np.array([\n",
        "  [0.00, 10.18066949],\n",
        "  [0.05, 9.68532650],\n",
        "  [0.10, 9.57756420],\n",
        "  [0.15, 8.97698692],\n",
        "  [0.20, 9.26775331],\n",
        "  [0.25, 8.57867356],\n",
        "  [0.30, 8.41627338],\n",
        "  [0.35, 8.52557991],\n",
        "  [0.40, 8.14847057],\n",
        "  [0.45, 8.11814474],\n",
        "  [0.50, 7.73210163],\n",
        "  [0.55, 7.49610525],\n",
        "  [0.60, 7.21145539],\n",
        "  [0.65, 7.38406612],\n",
        "  [0.70, 7.10966780],\n",
        "  [0.75, 6.97690056],\n",
        "  [0.80, 6.91499709],\n",
        "  [0.85, 6.52208220],\n",
        "  [0.90, 6.51737682],\n",
        "  [0.95, 6.60428743],\n",
        "  [1.00, 6.45108555],\n",
        "  [1.05, 6.08735980],\n",
        "  [1.10, 5.98447390],\n",
        "  [1.15, 5.86766072],\n",
        "  [1.20, 5.73590517],\n",
        "  [1.25, 5.81354866],\n",
        "  [1.30, 5.81578848],\n",
        "  [1.35, 5.75317737],\n",
        "  [1.40, 5.59196586],\n",
        "  [1.45, 5.34741359],\n",
        "  [1.50, 5.46917538],\n",
        "  [1.55, 5.20361472],\n",
        "  [1.60, 5.13529086],\n",
        "  [1.65, 5.05361424],\n",
        "  [1.70, 5.00315004],\n",
        "  [1.75, 4.94850650],\n",
        "  [1.80,  4.89647212],\n",
        "  [1.85,  4.87856994],\n",
        "  [1.90,  4.81989700],\n",
        "  [1.95,  4.73013991],\n",
        "  [2.00,  4.68719730],\n",
        "  [2.05,  4.84664770],\n",
        "  [2.10,  4.73156881],\n",
        "  [2.15,  4.63313463],\n",
        "  [2.20,  4.46573500],\n",
        "  [2.25,  4.42847230],\n",
        "  [2.30,  4.34159682],\n",
        "  [2.35,  4.55801088],\n",
        "  [2.40,  4.45020533],\n",
        "  [2.45, 4.36256710],\n",
        "  [2.50,  4.24821319],\n",
        "  [2.55,  4.16533611],\n",
        "  [2.60, 4.26286833],\n",
        "  [2.65, 4.33237268],\n",
        "  [2.70, 4.05711806],\n",
        "  [2.75,  4.04768959],\n",
        "  [2.80,   4.05347346],\n",
        "  [2.85,   3.92854148],\n",
        "  [2.90,   4.06819262],\n",
        "  [2.95,   3.95713209],\n",
        "  [3.00,   4.08663267],\n",
        "  [3.05,   3.89555427],\n",
        "  [3.10,   3.92536072],\n",
        "  [3.15 ,  3.76973818],\n",
        "  [3.20,   3.80270701],\n",
        "  [3.25 ,  3.71621507],\n",
        "  [3.30 ,  3.84731361],\n",
        "  [3.35 ,  3.84958374],\n",
        "  [3.40 ,  3.68680050],\n",
        "  [3.45  , 3.74788149],\n",
        "  [3.50  , 3.62148035],\n",
        "  [3.55 ,  3.65731511],\n",
        "  [3.60 ,  3.70935268],\n",
        "  [3.65 ,  3.62551283],\n",
        "  [3.70 ,  3.53604955],\n",
        "  [3.75 ,  3.50408583],\n",
        "  [3.80 ,  3.51944267],\n",
        "  [3.85 ,  3.48965320],\n",
        "  [3.90 ,  3.45223021],\n",
        "  [3.95 ,  3.47881770],\n",
        "  [4.00 ,  3.50163731],\n",
        "  [4.05 ,  3.40387110],\n",
        "  [4.10 ,  3.38429579],\n",
        "  [4.15 ,  3.29175463],\n",
        "  [4.20 ,  3.24835181],\n",
        "  [4.25 ,  3.29111291],\n",
        "  [4.30 ,  3.27797509],\n",
        "  [4.35 ,  3.33636904],\n",
        "  [4.40 ,  3.38653147],\n",
        "  [4.45 ,  3.36202469],\n",
        "  [4.50 ,  3.23412350],\n",
        "  [4.55 ,  3.16648748],\n",
        "  [4.60  , 3.26591390],\n",
        "  [4.65  , 3.24636381],\n",
        "  [4.70  , 3.22389575],\n",
        "  [4.75 ,  3.20646282],\n",
        "  [4.80 ,  3.04858312],\n",
        "  [4.85 ,  3.15725052],\n",
        "  [4.90 ,  3.09239149],\n",
        "  [4.95 ,  3.02114805],\n",
        "  [5.00 ,  2.98016748]])"
      ],
      "metadata": {
        "id": "R4BIAHGrqbDH"
      },
      "execution_count": 4,
      "outputs": []
    },
    {
      "cell_type": "code",
      "source": [
        "tme=Data[:,0]\n",
        "tme"
      ],
      "metadata": {
        "colab": {
          "base_uri": "https://localhost:8080/"
        },
        "id": "fmk-L3mhqLAr",
        "outputId": "6109b80b-ddce-4b9f-e560-4f20b8cc30a9"
      },
      "execution_count": 5,
      "outputs": [
        {
          "output_type": "execute_result",
          "data": {
            "text/plain": [
              "array([0.  , 0.05, 0.1 , 0.15, 0.2 , 0.25, 0.3 , 0.35, 0.4 , 0.45, 0.5 ,\n",
              "       0.55, 0.6 , 0.65, 0.7 , 0.75, 0.8 , 0.85, 0.9 , 0.95, 1.  , 1.05,\n",
              "       1.1 , 1.15, 1.2 , 1.25, 1.3 , 1.35, 1.4 , 1.45, 1.5 , 1.55, 1.6 ,\n",
              "       1.65, 1.7 , 1.75, 1.8 , 1.85, 1.9 , 1.95, 2.  , 2.05, 2.1 , 2.15,\n",
              "       2.2 , 2.25, 2.3 , 2.35, 2.4 , 2.45, 2.5 , 2.55, 2.6 , 2.65, 2.7 ,\n",
              "       2.75, 2.8 , 2.85, 2.9 , 2.95, 3.  , 3.05, 3.1 , 3.15, 3.2 , 3.25,\n",
              "       3.3 , 3.35, 3.4 , 3.45, 3.5 , 3.55, 3.6 , 3.65, 3.7 , 3.75, 3.8 ,\n",
              "       3.85, 3.9 , 3.95, 4.  , 4.05, 4.1 , 4.15, 4.2 , 4.25, 4.3 , 4.35,\n",
              "       4.4 , 4.45, 4.5 , 4.55, 4.6 , 4.65, 4.7 , 4.75, 4.8 , 4.85, 4.9 ,\n",
              "       4.95, 5.  ])"
            ]
          },
          "metadata": {},
          "execution_count": 5
        }
      ]
    },
    {
      "cell_type": "code",
      "source": [
        "y=Data[:,1]\n",
        "y"
      ],
      "metadata": {
        "colab": {
          "base_uri": "https://localhost:8080/"
        },
        "id": "pXV2I5pVqiRd",
        "outputId": "5fcf7034-4833-407b-c23d-adeb934a26fb"
      },
      "execution_count": 6,
      "outputs": [
        {
          "output_type": "execute_result",
          "data": {
            "text/plain": [
              "array([10.18066949,  9.6853265 ,  9.5775642 ,  8.97698692,  9.26775331,\n",
              "        8.57867356,  8.41627338,  8.52557991,  8.14847057,  8.11814474,\n",
              "        7.73210163,  7.49610525,  7.21145539,  7.38406612,  7.1096678 ,\n",
              "        6.97690056,  6.91499709,  6.5220822 ,  6.51737682,  6.60428743,\n",
              "        6.45108555,  6.0873598 ,  5.9844739 ,  5.86766072,  5.73590517,\n",
              "        5.81354866,  5.81578848,  5.75317737,  5.59196586,  5.34741359,\n",
              "        5.46917538,  5.20361472,  5.13529086,  5.05361424,  5.00315004,\n",
              "        4.9485065 ,  4.89647212,  4.87856994,  4.819897  ,  4.73013991,\n",
              "        4.6871973 ,  4.8466477 ,  4.73156881,  4.63313463,  4.465735  ,\n",
              "        4.4284723 ,  4.34159682,  4.55801088,  4.45020533,  4.3625671 ,\n",
              "        4.24821319,  4.16533611,  4.26286833,  4.33237268,  4.05711806,\n",
              "        4.04768959,  4.05347346,  3.92854148,  4.06819262,  3.95713209,\n",
              "        4.08663267,  3.89555427,  3.92536072,  3.76973818,  3.80270701,\n",
              "        3.71621507,  3.84731361,  3.84958374,  3.6868005 ,  3.74788149,\n",
              "        3.62148035,  3.65731511,  3.70935268,  3.62551283,  3.53604955,\n",
              "        3.50408583,  3.51944267,  3.4896532 ,  3.45223021,  3.4788177 ,\n",
              "        3.50163731,  3.4038711 ,  3.38429579,  3.29175463,  3.24835181,\n",
              "        3.29111291,  3.27797509,  3.33636904,  3.38653147,  3.36202469,\n",
              "        3.2341235 ,  3.16648748,  3.2659139 ,  3.24636381,  3.22389575,\n",
              "        3.20646282,  3.04858312,  3.15725052,  3.09239149,  3.02114805,\n",
              "        2.98016748])"
            ]
          },
          "metadata": {},
          "execution_count": 6
        }
      ]
    },
    {
      "cell_type": "markdown",
      "source": [
        "(a) Using exponential peeling to approximate b(j), j=1...4\n",
        "\n",
        "By following the idea of data peeling we split the data points into three(3) part which we refer to the first one-third as below, Indpendsplit = The first 1/3 of the time variable. Independslit2 = The last 2/3 of the time variable."
      ],
      "metadata": {
        "id": "2xc7g9UGq2mg"
      }
    },
    {
      "cell_type": "code",
      "source": [
        "# Indpendsplit = first 1/3 of tme data points\n",
        "# Independsplit2 = remaining 2/3 of tme data points\n",
        "Indpendsplit=tme[0:35]\n",
        "Independsplit2=tme[35:]"
      ],
      "metadata": {
        "id": "SxRdLHPVrb05"
      },
      "execution_count": 7,
      "outputs": []
    },
    {
      "cell_type": "code",
      "source": [
        "Indpendsplit"
      ],
      "metadata": {
        "colab": {
          "base_uri": "https://localhost:8080/"
        },
        "id": "avnRrjLIrlrR",
        "outputId": "10ddc33e-4492-4100-fb86-dc79110512d0"
      },
      "execution_count": 8,
      "outputs": [
        {
          "output_type": "execute_result",
          "data": {
            "text/plain": [
              "array([0.  , 0.05, 0.1 , 0.15, 0.2 , 0.25, 0.3 , 0.35, 0.4 , 0.45, 0.5 ,\n",
              "       0.55, 0.6 , 0.65, 0.7 , 0.75, 0.8 , 0.85, 0.9 , 0.95, 1.  , 1.05,\n",
              "       1.1 , 1.15, 1.2 , 1.25, 1.3 , 1.35, 1.4 , 1.45, 1.5 , 1.55, 1.6 ,\n",
              "       1.65, 1.7 ])"
            ]
          },
          "metadata": {},
          "execution_count": 8
        }
      ]
    },
    {
      "cell_type": "markdown",
      "source": [
        "Similar to the splitting of the time variable, we split the dependent variable with the first 1/3 being, Pendsplit = 1/3 of the y variable and Pendsplit2 = 2/3 of the last part of the dependent variable."
      ],
      "metadata": {
        "id": "akV_AQ7prsjG"
      }
    },
    {
      "cell_type": "code",
      "source": [
        "Pendsplit=y[0:35]\n",
        "Pendsplit2=y[35:]"
      ],
      "metadata": {
        "id": "y1xaE68sruJM"
      },
      "execution_count": 10,
      "outputs": []
    },
    {
      "cell_type": "code",
      "source": [
        "Pendsplit"
      ],
      "metadata": {
        "colab": {
          "base_uri": "https://localhost:8080/"
        },
        "id": "qLiGToPtr3VC",
        "outputId": "8353e2e7-e2bc-421a-a6df-550d5e6feb0f"
      },
      "execution_count": 11,
      "outputs": [
        {
          "output_type": "execute_result",
          "data": {
            "text/plain": [
              "array([10.18066949,  9.6853265 ,  9.5775642 ,  8.97698692,  9.26775331,\n",
              "        8.57867356,  8.41627338,  8.52557991,  8.14847057,  8.11814474,\n",
              "        7.73210163,  7.49610525,  7.21145539,  7.38406612,  7.1096678 ,\n",
              "        6.97690056,  6.91499709,  6.5220822 ,  6.51737682,  6.60428743,\n",
              "        6.45108555,  6.0873598 ,  5.9844739 ,  5.86766072,  5.73590517,\n",
              "        5.81354866,  5.81578848,  5.75317737,  5.59196586,  5.34741359,\n",
              "        5.46917538,  5.20361472,  5.13529086,  5.05361424,  5.00315004])"
            ]
          },
          "metadata": {},
          "execution_count": 11
        }
      ]
    },
    {
      "cell_type": "code",
      "source": [
        "# b= is the logarithm of the first 1/3 of our y variable\n",
        "b = np.log(Pendsplit)\n",
        "b"
      ],
      "metadata": {
        "colab": {
          "base_uri": "https://localhost:8080/"
        },
        "id": "AyQI9phzsClR",
        "outputId": "beb6fde6-13dc-4e7f-8719-1a02de14128a"
      },
      "execution_count": 12,
      "outputs": [
        {
          "output_type": "execute_result",
          "data": {
            "text/plain": [
              "array([2.32049077, 2.27061201, 2.2594233 , 2.19466429, 2.22654099,\n",
              "       2.1492793 , 2.13016714, 2.14307105, 2.09783025, 2.09410165,\n",
              "       2.04538071, 2.01438359, 1.97567079, 1.99932445, 1.96145552,\n",
              "       1.94260477, 1.93369254, 1.87519368, 1.87447197, 1.88771905,\n",
              "       1.86424842, 1.80621446, 1.78916843, 1.76945604, 1.74674557,\n",
              "       1.76019117, 1.76057637, 1.74975229, 1.7213309 , 1.676613  ,\n",
              "       1.69912785, 1.64935352, 1.63613648, 1.62010368, 1.61006772])"
            ]
          },
          "metadata": {},
          "execution_count": 12
        }
      ]
    },
    {
      "cell_type": "code",
      "source": [
        "C=np.ones(35)\n",
        "C"
      ],
      "metadata": {
        "colab": {
          "base_uri": "https://localhost:8080/"
        },
        "id": "9DggL2i3sHdP",
        "outputId": "521a969a-db24-4be0-c495-cc83fc758fe6"
      },
      "execution_count": 13,
      "outputs": [
        {
          "output_type": "execute_result",
          "data": {
            "text/plain": [
              "array([1., 1., 1., 1., 1., 1., 1., 1., 1., 1., 1., 1., 1., 1., 1., 1., 1.,\n",
              "       1., 1., 1., 1., 1., 1., 1., 1., 1., 1., 1., 1., 1., 1., 1., 1., 1.,\n",
              "       1.])"
            ]
          },
          "metadata": {},
          "execution_count": 13
        }
      ]
    },
    {
      "cell_type": "code",
      "source": [
        "# A = The matrix of coefficient of the system.\n",
        "A=np.column_stack((C, Indpendsplit))\n",
        "A"
      ],
      "metadata": {
        "colab": {
          "base_uri": "https://localhost:8080/"
        },
        "id": "h3CnmCcMsMeK",
        "outputId": "6978df22-8817-4f72-ffcb-a1df65eccb4a"
      },
      "execution_count": 14,
      "outputs": [
        {
          "output_type": "execute_result",
          "data": {
            "text/plain": [
              "array([[1.  , 0.  ],\n",
              "       [1.  , 0.05],\n",
              "       [1.  , 0.1 ],\n",
              "       [1.  , 0.15],\n",
              "       [1.  , 0.2 ],\n",
              "       [1.  , 0.25],\n",
              "       [1.  , 0.3 ],\n",
              "       [1.  , 0.35],\n",
              "       [1.  , 0.4 ],\n",
              "       [1.  , 0.45],\n",
              "       [1.  , 0.5 ],\n",
              "       [1.  , 0.55],\n",
              "       [1.  , 0.6 ],\n",
              "       [1.  , 0.65],\n",
              "       [1.  , 0.7 ],\n",
              "       [1.  , 0.75],\n",
              "       [1.  , 0.8 ],\n",
              "       [1.  , 0.85],\n",
              "       [1.  , 0.9 ],\n",
              "       [1.  , 0.95],\n",
              "       [1.  , 1.  ],\n",
              "       [1.  , 1.05],\n",
              "       [1.  , 1.1 ],\n",
              "       [1.  , 1.15],\n",
              "       [1.  , 1.2 ],\n",
              "       [1.  , 1.25],\n",
              "       [1.  , 1.3 ],\n",
              "       [1.  , 1.35],\n",
              "       [1.  , 1.4 ],\n",
              "       [1.  , 1.45],\n",
              "       [1.  , 1.5 ],\n",
              "       [1.  , 1.55],\n",
              "       [1.  , 1.6 ],\n",
              "       [1.  , 1.65],\n",
              "       [1.  , 1.7 ]])"
            ]
          },
          "metadata": {},
          "execution_count": 14
        }
      ]
    },
    {
      "cell_type": "code",
      "source": [
        "TransposeA = A.T\n",
        "TransposeA"
      ],
      "metadata": {
        "colab": {
          "base_uri": "https://localhost:8080/"
        },
        "id": "j4OWBMYysVJB",
        "outputId": "10373cf3-daac-46db-ce4b-27c1b5d4c22e"
      },
      "execution_count": 15,
      "outputs": [
        {
          "output_type": "execute_result",
          "data": {
            "text/plain": [
              "array([[1.  , 1.  , 1.  , 1.  , 1.  , 1.  , 1.  , 1.  , 1.  , 1.  , 1.  ,\n",
              "        1.  , 1.  , 1.  , 1.  , 1.  , 1.  , 1.  , 1.  , 1.  , 1.  , 1.  ,\n",
              "        1.  , 1.  , 1.  , 1.  , 1.  , 1.  , 1.  , 1.  , 1.  , 1.  , 1.  ,\n",
              "        1.  , 1.  ],\n",
              "       [0.  , 0.05, 0.1 , 0.15, 0.2 , 0.25, 0.3 , 0.35, 0.4 , 0.45, 0.5 ,\n",
              "        0.55, 0.6 , 0.65, 0.7 , 0.75, 0.8 , 0.85, 0.9 , 0.95, 1.  , 1.05,\n",
              "        1.1 , 1.15, 1.2 , 1.25, 1.3 , 1.35, 1.4 , 1.45, 1.5 , 1.55, 1.6 ,\n",
              "        1.65, 1.7 ]])"
            ]
          },
          "metadata": {},
          "execution_count": 15
        }
      ]
    },
    {
      "cell_type": "code",
      "source": [
        "# productATA = The product of the matrix transpose of A and A.\n",
        "productATA = np.dot(TransposeA, A)\n",
        "productATA"
      ],
      "metadata": {
        "colab": {
          "base_uri": "https://localhost:8080/"
        },
        "id": "2uBxf04-seov",
        "outputId": "24afa544-f901-409d-c41b-60675941c7ce"
      },
      "execution_count": 16,
      "outputs": [
        {
          "output_type": "execute_result",
          "data": {
            "text/plain": [
              "array([[35.    , 29.75  ],\n",
              "       [29.75  , 34.2125]])"
            ]
          },
          "metadata": {},
          "execution_count": 16
        }
      ]
    },
    {
      "cell_type": "code",
      "source": [
        "# productATb = The product of the matrix transpose of A and b.\n",
        "productATb = np.dot(TransposeA, b)\n",
        "productATb"
      ],
      "metadata": {
        "colab": {
          "base_uri": "https://localhost:8080/"
        },
        "id": "1fAl6Z2Lsl-z",
        "outputId": "e3e16806-dcce-479c-e3c1-601716e0411a"
      },
      "execution_count": 17,
      "outputs": [
        {
          "output_type": "execute_result",
          "data": {
            "text/plain": [
              "array([67.25516373, 53.57389537])"
            ]
          },
          "metadata": {},
          "execution_count": 17
        }
      ]
    },
    {
      "cell_type": "code",
      "source": [
        "# sol = The solution after solving the linear system for the unknowns ln(b_1) and b_2\n",
        "sol=np.linalg.solve(productATA, productATb)\n",
        "sol"
      ],
      "metadata": {
        "colab": {
          "base_uri": "https://localhost:8080/"
        },
        "id": "ujkAzog8srfK",
        "outputId": "691da571-26ca-4233-f472-96e2178358af"
      },
      "execution_count": 18,
      "outputs": [
        {
          "output_type": "execute_result",
          "data": {
            "text/plain": [
              "array([ 2.26376599, -0.40257634])"
            ]
          },
          "metadata": {},
          "execution_count": 18
        }
      ]
    },
    {
      "cell_type": "code",
      "source": [
        "# So we have our parameters as\n",
        "b_1=np.exp(2.26376599)\n",
        "b_2=-0.40357634"
      ],
      "metadata": {
        "id": "sQHvwwmssx7p"
      },
      "execution_count": 19,
      "outputs": []
    },
    {
      "cell_type": "code",
      "source": [
        "b_1"
      ],
      "metadata": {
        "colab": {
          "base_uri": "https://localhost:8080/"
        },
        "id": "33Y2cvMqs4Ff",
        "outputId": "f7eef298-3d70-4577-b14f-f24ef7f7f198"
      },
      "execution_count": 20,
      "outputs": [
        {
          "output_type": "execute_result",
          "data": {
            "text/plain": [
              "9.619247027071083"
            ]
          },
          "metadata": {},
          "execution_count": 20
        }
      ]
    },
    {
      "cell_type": "code",
      "source": [
        "# r = represent our residue of from the peeling. And is obtained as such;\n",
        "r=Pendsplit2-[b_1*np.exp(b_2*t) for t in Independsplit2]\n",
        "r"
      ],
      "metadata": {
        "colab": {
          "base_uri": "https://localhost:8080/"
        },
        "id": "xrotuhV8s8nh",
        "outputId": "4bdf269b-50ba-4c6b-b4f0-831395f9642e"
      },
      "execution_count": 21,
      "outputs": [
        {
          "output_type": "execute_result",
          "data": {
            "text/plain": [
              "array([0.20153235, 0.24432631, 0.31935812, 0.35176268, 0.35126366,\n",
              "       0.39579606, 0.64097401, 0.60991012, 0.59381262, 0.50710486,\n",
              "       0.54892208, 0.53954677, 0.83191281, 0.79854199, 0.78385153,\n",
              "       0.74098814, 0.72817345, 0.89436845, 1.03116393, 0.8218562 ,\n",
              "       0.87705722, 0.9461795 , 0.88332065, 1.08380491, 1.03236226,\n",
              "       1.22028976, 1.08647111, 1.17239345, 1.0717658 , 1.15863091,\n",
              "       1.12495859, 1.30782159, 1.36082211, 1.24775583, 1.35756061,\n",
              "       1.27890992, 1.36154124, 1.45944054, 1.42054626, 1.37513068,\n",
              "       1.38633475, 1.44399703, 1.45566788, 1.45887697, 1.52528486,\n",
              "       1.58712939, 1.52760851, 1.54551453, 1.48970594, 1.4823019 ,\n",
              "       1.56034265, 1.58177972, 1.67405786, 1.75742759, 1.76546475,\n",
              "       1.66945738, 1.63307805, 1.76313676, 1.77360702, 1.78055962,\n",
              "       1.79195962, 1.66233687, 1.79869673, 1.76097697, 1.71633065,\n",
              "       1.70141588])"
            ]
          },
          "metadata": {},
          "execution_count": 21
        }
      ]
    },
    {
      "cell_type": "code",
      "source": [
        "# we create the vandermnde matrix\n",
        "I1=[1 for i in range(len(r))]"
      ],
      "metadata": {
        "id": "XTmZ0zuLtJEp"
      },
      "execution_count": 22,
      "outputs": []
    },
    {
      "cell_type": "code",
      "source": [
        "# B = represents the new matrix of coefficients for the residue system.\n",
        "B=np.vstack((I1, Independsplit2)).T\n",
        "B\n",
        "# BTB = The product of the transpose of B and B.\n",
        "BTB=np.dot(np.transpose(B), B)\n",
        "BTB"
      ],
      "metadata": {
        "colab": {
          "base_uri": "https://localhost:8080/"
        },
        "id": "zmRx7e_FtOaV",
        "outputId": "446b499a-0900-4eb0-9720-6ea58350b864"
      },
      "execution_count": 23,
      "outputs": [
        {
          "output_type": "execute_result",
          "data": {
            "text/plain": [
              "array([[ 66.    , 222.75  ],\n",
              "       [222.75  , 811.6625]])"
            ]
          },
          "metadata": {},
          "execution_count": 23
        }
      ]
    },
    {
      "cell_type": "code",
      "source": [
        "# R = represents the logarithm of the residure R.\n",
        "R=np.log(r)\n",
        "R"
      ],
      "metadata": {
        "colab": {
          "base_uri": "https://localhost:8080/"
        },
        "id": "1PwL-4N3tTSZ",
        "outputId": "74d88338-bbae-4688-de4f-210505f1cf9b"
      },
      "execution_count": 24,
      "outputs": [
        {
          "output_type": "execute_result",
          "data": {
            "text/plain": [
              "array([-1.60180539, -1.40925062, -1.14144216, -1.04479854, -1.04621816,\n",
              "       -0.92685621, -0.44476637, -0.49444367, -0.52119147, -0.67903748,\n",
              "       -0.59979878, -0.61702581, -0.18402763, -0.22496773, -0.24353565,\n",
              "       -0.29977066, -0.317216  , -0.11163745,  0.03068819, -0.19618984,\n",
              "       -0.13118305, -0.05532298, -0.12406701,  0.08047791,  0.03184963,\n",
              "        0.19908834,  0.08293493,  0.15904735,  0.06930757,  0.14723906,\n",
              "        0.11774623,  0.26836285,  0.30808901,  0.2213466 ,  0.30568942,\n",
              "        0.24600809,  0.30861733,  0.37805317,  0.35104149,  0.31854877,\n",
              "        0.32666339,  0.36741498,  0.37546482,  0.37766694,  0.42218119,\n",
              "        0.46192697,  0.42370345,  0.43535688,  0.39857874,  0.39359622,\n",
              "        0.44490545,  0.45855062,  0.51525054,  0.56385115,  0.56841397,\n",
              "        0.51249865,  0.49046661,  0.56709447,  0.57301534,  0.57692771,\n",
              "        0.58330978,  0.50822436,  0.58706237,  0.56586875,  0.54018867,\n",
              "        0.53146077])"
            ]
          },
          "metadata": {},
          "execution_count": 24
        }
      ]
    },
    {
      "cell_type": "code",
      "source": [
        "# BTR = The product of the transpose of B and R.\n",
        "BTR=np.dot(np.transpose(B), R)\n",
        "BTR"
      ],
      "metadata": {
        "colab": {
          "base_uri": "https://localhost:8080/"
        },
        "id": "b0xJHonytYCe",
        "outputId": "afc2b232-29b1-41a2-f4ca-b271e73280f7"
      },
      "execution_count": 25,
      "outputs": [
        {
          "output_type": "execute_result",
          "data": {
            "text/plain": [
              "array([ 3.77922604, 42.50771948])"
            ]
          },
          "metadata": {},
          "execution_count": 25
        }
      ]
    },
    {
      "cell_type": "code",
      "source": [
        "# We solve the system to obtain the values of ln(b_3) and b_4\n",
        "np.linalg.solve(BTB, BTR)"
      ],
      "metadata": {
        "colab": {
          "base_uri": "https://localhost:8080/"
        },
        "id": "EZRVe5u3tcof",
        "outputId": "43f21c08-6061-41ad-c709-28ccf2393e56"
      },
      "execution_count": 26,
      "outputs": [
        {
          "output_type": "execute_result",
          "data": {
            "text/plain": [
              "array([-1.61965467,  0.4968639 ])"
            ]
          },
          "metadata": {},
          "execution_count": 26
        }
      ]
    },
    {
      "cell_type": "code",
      "source": [
        "b_3 = np.exp(-1.61965467)\n",
        "b_4 = 0.4968639"
      ],
      "metadata": {
        "id": "XN3kHPy8thjl"
      },
      "execution_count": 27,
      "outputs": []
    },
    {
      "cell_type": "code",
      "source": [
        "b_3"
      ],
      "metadata": {
        "colab": {
          "base_uri": "https://localhost:8080/"
        },
        "id": "Ua-TBOfitmrd",
        "outputId": "f3d860d7-1f5e-420f-e0db-7924d2e925fe"
      },
      "execution_count": 28,
      "outputs": [
        {
          "output_type": "execute_result",
          "data": {
            "text/plain": [
              "0.1979670512427155"
            ]
          },
          "metadata": {},
          "execution_count": 28
        }
      ]
    },
    {
      "cell_type": "code",
      "source": [
        "Modelvalues = b_1*np.exp(b_2*tme) + b_3*np.exp(b_4*tme)\n",
        "Modelvalues"
      ],
      "metadata": {
        "colab": {
          "base_uri": "https://localhost:8080/"
        },
        "id": "h_fczjvTt1ji",
        "outputId": "bb1a9191-d2fc-420d-8607-db989e0547cd"
      },
      "execution_count": 29,
      "outputs": [
        {
          "output_type": "execute_result",
          "data": {
            "text/plain": [
              "array([9.81721408, 9.63003409, 9.44681805, 9.26749244, 9.09198533,\n",
              "       8.92022638, 8.75214682, 8.58767937, 8.42675829, 8.26931928,\n",
              "       8.11529953, 7.96463761, 7.81727353, 7.67314865, 7.53220568,\n",
              "       7.39438869, 7.25964303, 7.12791536, 6.99915359, 6.87330689,\n",
              "       6.75032564, 6.63016145, 6.5127671 , 6.39809656, 6.28610493,\n",
              "       6.17674847, 6.06998454, 5.96577162, 5.86406926, 5.76483811,\n",
              "       5.66803984, 5.57363719, 5.48159392, 5.39187482, 5.30444567,\n",
              "       5.21927324, 5.13632527, 5.0555705 , 4.97697859, 4.90052017,\n",
              "       4.82616678, 4.75389092, 4.68366596, 4.61546622, 4.54926689,\n",
              "       4.48504406, 4.4227747 , 4.36243664, 4.30400861, 4.24747016,\n",
              "       4.19280173, 4.13998459, 4.08900084, 4.03983345, 3.9924662 ,\n",
              "       3.94688369, 3.90307138, 3.86101553, 3.8207032 , 3.7821223 ,\n",
              "       3.74526153, 3.71011041, 3.67665928, 3.64489927, 3.61482233,\n",
              "       3.58642121, 3.55968948, 3.53462151, 3.51121248, 3.48945839,\n",
              "       3.46935603, 3.45090304, 3.43409784, 3.41893971, 3.40542872,\n",
              "       3.39356578, 3.38335264, 3.37479188, 3.36788693, 3.36264205,\n",
              "       3.35906237, 3.35715387, 3.35692342, 3.35837874, 3.36152844,\n",
              "       3.36638203, 3.37294991, 3.3812434 , 3.39127473, 3.40305707,\n",
              "       3.41660453, 3.43193217, 3.449056  , 3.46799304, 3.48876127,\n",
              "       3.5113797 , 3.53586833, 3.56224823, 3.59054148, 3.62077125,\n",
              "       3.65296179])"
            ]
          },
          "metadata": {},
          "execution_count": 29
        }
      ]
    },
    {
      "cell_type": "markdown",
      "source": [
        "(b) Graph of the data and equation (3) of the question with values b(j), j= 1...4 on the same axes. Compute the SSE using equation (4) from the question."
      ],
      "metadata": {
        "id": "8RYklgekuQWp"
      }
    },
    {
      "cell_type": "code",
      "source": [
        "# The below plot illustrate a comparison between the given Data points and the\n",
        "# results from the exponential peeling.\n",
        "\n",
        "\n",
        "plt.plot(tme, y, color='red', label='Data Points')\n",
        "plt.plot(tme, Modelvalues, color='blue', label='Model Values')\n",
        "plt.xlabel('Time')\n",
        "plt.ylabel('Concentration')\n",
        "plt.title('Concentration in Plasma Comparing DP and MF')\n",
        "plt.grid(True)\n",
        "plt.legend()\n",
        "plt.show()"
      ],
      "metadata": {
        "colab": {
          "base_uri": "https://localhost:8080/",
          "height": 472
        },
        "id": "0OwKE6Jst6o3",
        "outputId": "b26ed677-9dcc-46a2-e420-6e1008b22f24"
      },
      "execution_count": 30,
      "outputs": [
        {
          "output_type": "display_data",
          "data": {
            "text/plain": [
              "<Figure size 640x480 with 1 Axes>"
            ],
            "image/png": "[encoded data removed]"
          },
          "metadata": {}
        }
      ]
    },
    {
      "cell_type": "code",
      "source": [
        "# Our approximated values for the parameters are;\n",
        "# b_1 = 9.619247027071083\n",
        "# b_2 = -0.40357634\n",
        "# b_3 = 0.1979670512427155\n",
        "# b_4 = 0.4968639"
      ],
      "metadata": {
        "id": "JPdwrte7uEbo"
      },
      "execution_count": 31,
      "outputs": []
    },
    {
      "cell_type": "code",
      "source": [
        "diff = y - Modelvalues\n",
        "SSE = np.sum(diff**2)\n",
        "print(SSE)"
      ],
      "metadata": {
        "colab": {
          "base_uri": "https://localhost:8080/"
        },
        "id": "hiPQoqEmuNVb",
        "outputId": "0daf622f-400e-47d2-fc91-e2e1f1905010"
      },
      "execution_count": 32,
      "outputs": [
        {
          "output_type": "stream",
          "name": "stdout",
          "text": [
            "8.085276212235492\n"
          ]
        }
      ]
    },
    {
      "cell_type": "markdown",
      "source": [
        "(c) Using an optimization package in python to find the unknown parameters by minimizing the sum of the squares of the error (SSE) for the model in (a) together with the graph of the data and the approximate (3) from question."
      ],
      "metadata": {
        "id": "7BHFg4Yhv-3E"
      }
    },
    {
      "cell_type": "code",
      "source": [
        "import numpy as np\n",
        "from scipy.optimize import curve_fit\n",
        "import matplotlib.pyplot as plt\n",
        "\n",
        "# Define the exponential function\n",
        "def exponential_func(t, b1, b2, b3, b4):\n",
        "    return b1 * np.exp(b2 * t) + b3 * np.exp(b4 * t)\n",
        "\n",
        "\n",
        "\n",
        "t = Data[:, 0]\n",
        "y_actual = Data[:, 1]\n",
        "\n",
        "# Initial guess for the parameters\n",
        "initial_guess = [1, 1, 1, 1]\n",
        "\n",
        "# Fit the exponential model to the data\n",
        "optimized_params, _ = curve_fit(exponential_func, t, y_actual, p0=initial_guess)\n",
        "\n",
        "# Generate predicted values using the optimized parameters\n",
        "y_predicted = exponential_func(t, *optimized_params)\n",
        "\n",
        "# Plot the actual and predicted values\n",
        "plt.plot(t, y_actual, label='Data Points')\n",
        "plt.plot(t, y_predicted, color='orange', label='Predicted')\n",
        "plt.xlabel('Time')\n",
        "plt.title('Concentration in Plasma ')\n",
        "plt.ylabel('Concentration')\n",
        "plt.grid(True)\n",
        "plt.legend()\n",
        "plt.show()\n",
        "\n",
        "# Print the optimized parameters\n",
        "print(\"Optimized parameters:\", optimized_params)\n",
        "print(optimized_params)"
      ],
      "metadata": {
        "colab": {
          "base_uri": "https://localhost:8080/",
          "height": 508
        },
        "id": "LrM_3F2ovGUo",
        "outputId": "66f488d5-a3cd-4bf0-db88-585724e84ed3"
      },
      "execution_count": 33,
      "outputs": [
        {
          "output_type": "display_data",
          "data": {
            "text/plain": [
              "<Figure size 640x480 with 1 Axes>"
            ],
            "image/png": "[encoded data removed]"
          },
          "metadata": {}
        },
        {
          "output_type": "stream",
          "name": "stdout",
          "text": [
            "Optimized parameters: [ 5.12915232 -0.10455659  4.94363721 -1.07959743]\n",
            "[ 5.12915232 -0.10455659  4.94363721 -1.07959743]\n"
          ]
        }
      ]
    },
    {
      "cell_type": "code",
      "source": [
        "print(y_predicted)"
      ],
      "metadata": {
        "colab": {
          "base_uri": "https://localhost:8080/"
        },
        "id": "wuvy0M0RvRDC",
        "outputId": "9a247523-e618-45b0-adcc-cab2ef5c3a2d"
      },
      "execution_count": 34,
      "outputs": [
        {
          "output_type": "stream",
          "name": "stdout",
          "text": [
            "[10.07278954  9.78626285  9.51352688  9.25386352  9.0065924   8.77106885\n",
            "  8.54668205  8.33285324  8.12903404  7.93470485  7.74937335  7.57257305\n",
            "  7.40386195  7.24282122  7.08905404  6.94218438  6.80185596  6.66773118\n",
            "  6.53949015  6.41682975  6.29946276  6.18711704  6.0795347   5.97647137\n",
            "  5.87769549  5.78298766  5.69213996  5.60495536  5.52124715  5.44083844\n",
            "  5.36356155  5.28925762  5.2177761   5.14897431  5.08271705  5.01887619\n",
            "  4.95733032  4.89796435  4.84066923  4.78534161  4.73188353  4.68020218\n",
            "  4.63020957  4.5818223   4.53496135  4.48955182  4.4455227   4.4028067\n",
            "  4.36134004  4.32106225  4.28191602  4.24384702  4.20680376  4.17073742\n",
            "  4.13560172  4.10135279  4.06794902  4.03535098  4.0035213   3.9724245\n",
            "  3.94202699  3.91229689  3.88320397  3.85471958  3.82681654  3.79946907\n",
            "  3.77265273  3.74634433  3.72052188  3.69516451  3.67025244  3.64576689\n",
            "  3.62169006  3.59800504  3.57469579  3.5517471   3.52914454  3.50687439\n",
            "  3.48492365  3.46327997  3.44193162  3.42086748  3.40007699  3.3795501\n",
            "  3.35927728  3.33924949  3.31945812  3.29989501  3.2805524   3.2614229\n",
            "  3.24249951  3.22377557  3.20524473  3.18690098  3.16873858  3.15075209\n",
            "  3.13293632  3.11528634  3.09779745  3.08046518  3.06328529]\n"
          ]
        }
      ]
    },
    {
      "cell_type": "code",
      "source": [
        "diff2 = y - y_predicted\n",
        "SSE2 = np.sum(diff2**2)\n",
        "print(SSE2)"
      ],
      "metadata": {
        "colab": {
          "base_uri": "https://localhost:8080/"
        },
        "id": "JzDo3wz5vVVg",
        "outputId": "312e69bd-6f11-485d-9c88-8ce5af027a69"
      },
      "execution_count": 35,
      "outputs": [
        {
          "output_type": "stream",
          "name": "stdout",
          "text": [
            "0.9278843007588851\n"
          ]
        }
      ]
    },
    {
      "cell_type": "code",
      "source": [
        "plt.plot(t, y_actual, label='Data Points')\n",
        "plt.plot(t, y_predicted, color='orange', label='Predicted')\n",
        "plt.plot(tme, Modelvalues, color='blue', label='Model Values')\n",
        "plt.xlabel('Time')\n",
        "plt.title('Concentration in Plasma ')\n",
        "plt.ylabel('Concentration')\n",
        "plt.grid(True)\n",
        "plt.legend()\n",
        "plt.show()"
      ],
      "metadata": {
        "colab": {
          "base_uri": "https://localhost:8080/",
          "height": 472
        },
        "id": "r2YY3lhYvZny",
        "outputId": "8bed7861-9b90-43ad-a421-8de168572986"
      },
      "execution_count": 36,
      "outputs": [
        {
          "output_type": "display_data",
          "data": {
            "text/plain": [
              "<Figure size 640x480 with 1 Axes>"
            ],
            "image/png": "[encoded data removed]"
          },
          "metadata": {}
        }
      ]
    }
  ]
}